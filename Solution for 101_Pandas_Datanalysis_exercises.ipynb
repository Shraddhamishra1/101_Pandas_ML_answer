{
 "cells": [
  {
   "cell_type": "code",
   "execution_count": 37,
   "metadata": {},
   "outputs": [
    {
     "ename": "SyntaxError",
     "evalue": "invalid syntax (<ipython-input-37-dd6fed0c7138>, line 1)",
     "output_type": "error",
     "traceback": [
      "\u001b[1;36m  File \u001b[1;32m\"<ipython-input-37-dd6fed0c7138>\"\u001b[1;36m, line \u001b[1;32m1\u001b[0m\n\u001b[1;33m    https://www.machinelearningplus.com/python/101-pandas-exercises-python/\u001b[0m\n\u001b[1;37m           ^\u001b[0m\n\u001b[1;31mSyntaxError\u001b[0m\u001b[1;31m:\u001b[0m invalid syntax\n"
     ]
    }
   ],
   "source": [
    "https://www.machinelearningplus.com/python/101-pandas-exercises-python/"
   ]
  },
  {
   "cell_type": "code",
   "execution_count": null,
   "metadata": {},
   "outputs": [],
   "source": [
    "#1  How to import pandas and check the version?\n",
    "import pandas as pd\n",
    "print(pd.__version__)\n",
    "print(pd.show_versions())"
   ]
  },
  {
   "cell_type": "code",
   "execution_count": null,
   "metadata": {},
   "outputs": [],
   "source": [
    "#2 How to create a series from a list, numpy array and dict?\n",
    "import numpy as np\n",
    "import array as arr\n",
    "list1 = ['a' ,'e' , 'i' , 'o' , 'u']\n",
    "array1 = arr.array('i' , [1,2,3,4,5])\n",
    "dictionary1 = {'Name':['Ram' , 'Sham' , 'Gyan'] , 'Age':['20' , '25' , '30']}\n",
    "print(pd.Series(list1))\n",
    "print(pd.Series(array1))\n",
    "print(pd.Series(dictionary1))"
   ]
  },
  {
   "cell_type": "code",
   "execution_count": 42,
   "metadata": {},
   "outputs": [
    {
     "name": "stdout",
     "output_type": "stream",
     "text": [
      "          0    1\n",
      "0    School  101\n",
      "1     Class  102\n",
      "2  Building  103\n",
      "<class 'pandas.core.frame.DataFrame'>\n"
     ]
    }
   ],
   "source": [
    "#3 How to convert the index of a series into a column of a dataframe?\n",
    "series1 = pd.Series(['School' , 'Class' , 'Building'])\n",
    "series2 = ['101','102','103']\n",
    "sam = zip(series1,series2)\n",
    "ser = pd.DataFrame(sam)\n",
    "print(ser)\n",
    "print(type(ser))"
   ]
  },
  {
   "cell_type": "code",
   "execution_count": 40,
   "metadata": {},
   "outputs": [
    {
     "name": "stdout",
     "output_type": "stream",
     "text": [
      "<class 'pandas.core.frame.DataFrame'>\n",
      "      0        1   2\n",
      "0   Ram   school  12\n",
      "1  Sham  college  22\n",
      "2  Gyan   temple  60\n"
     ]
    }
   ],
   "source": [
    "#4 How to combine many series to form a dataframe?\n",
    "series1=pd.Series(['Ram' , 'Sham' , 'Gyan'])\n",
    "series2=pd.Series(['school' , 'college' , 'temple'])\n",
    "series3=pd.Series(['12' ,'22' , '60'])\n",
    "df = pd.DataFrame(zip(series1,series2,series3))\n",
    "print(type(df))\n",
    "print(df)"
   ]
  },
  {
   "cell_type": "code",
   "execution_count": 41,
   "metadata": {},
   "outputs": [
    {
     "name": "stdout",
     "output_type": "stream",
     "text": [
      "   index    values\n",
      "0      0    School\n",
      "1      1     Class\n",
      "2      2  Building\n"
     ]
    }
   ],
   "source": [
    "#5 How to assign name to the series’ index?\n",
    "series1 = pd.Series(['School' , 'Class' , 'Building'])\n",
    "print(series1.reset_index(name='values'))\n",
    "# print(series1.head())\n"
   ]
  },
  {
   "cell_type": "code",
   "execution_count": null,
   "metadata": {},
   "outputs": [],
   "source": [
    "#6 How to get the items of ser1 not present in ser2 ?\n",
    "import pandas as pd \n",
    "import numpy as np\n",
    "ser1 = pd.Series([10, 9, 6, 5, 3, 1, 12, 8, 13])\n",
    "ser2 = pd.Series([1, 3, 10, 13])\n",
    "print([np.where(i == ser1)[0].tolist()[0] for i in ser2])"
   ]
  },
  {
   "cell_type": "code",
   "execution_count": 59,
   "metadata": {},
   "outputs": [
    {
     "name": "stdout",
     "output_type": "stream",
     "text": [
      "0    1\n",
      "1    2\n",
      "2    3\n",
      "3    4\n",
      "4    5\n",
      "5    6\n",
      "6    7\n",
      "7    8\n",
      "dtype: int64\n"
     ]
    }
   ],
   "source": [
    "#7 How to get the items not common to both series A and series B?\n",
    "ser1 = pd.Series([1, 2, 3, 4, 5])\n",
    "ser2 = pd.Series([4, 5, 6, 7, 8])\n",
    "ser_u = pd.Series(np.union1d(ser1, ser2))\n",
    "ser_i = pd.Series(np.intersect1d(ser1, ser2)) \n",
    "a = ser_u[~ser_u.isin(ser_i)]"
   ]
  },
  {
   "cell_type": "code",
   "execution_count": 64,
   "metadata": {},
   "outputs": [
    {
     "name": "stdout",
     "output_type": "stream",
     "text": [
      "1.865908416816982 0.25     5.446839\n",
      "0.75    12.239049\n",
      "dtype: float64 9.358449699918252 16.270358176134287\n"
     ]
    }
   ],
   "source": [
    "#8 How to get the minimum, 25th percentile, median, 75th, and max of a numeric series?\n",
    "ser = pd.Series(np.random.normal(10, 5, 25))\n",
    "print(ser.min() , ser.quantile([0.25 , 0.75])  , ser.median()  , ser.max())\n"
   ]
  },
  {
   "cell_type": "code",
   "execution_count": 67,
   "metadata": {},
   "outputs": [
    {
     "name": "stdout",
     "output_type": "stream",
     "text": [
      "['h' 'b' 'e' 'a' 'c' 'g' 'd' 'f']\n",
      "e    7\n",
      "a    5\n",
      "h    4\n",
      "b    4\n",
      "d    4\n",
      "c    2\n",
      "g    2\n",
      "f    2\n",
      "dtype: int64\n"
     ]
    }
   ],
   "source": [
    "#9  How to get frequency counts of unique items of a series? \n",
    "ser = pd.Series(np.take(list('abcdefgh'), np.random.randint(8, size=30)))\n",
    "print(ser.unique())\n",
    "print(ser.value_counts())"
   ]
  },
  {
   "cell_type": "code",
   "execution_count": 3,
   "metadata": {},
   "outputs": [
    {
     "name": "stdout",
     "output_type": "stream",
     "text": [
      "Int64Index([4, 3, 2], dtype='int64')\n",
      "0         4\n",
      "1         4\n",
      "2         3\n",
      "3         4\n",
      "4         4\n",
      "5         4\n",
      "6         3\n",
      "7         3\n",
      "8         4\n",
      "9         4\n",
      "10    Other\n",
      "11        4\n",
      "dtype: object\n"
     ]
    }
   ],
   "source": [
    "#10 How to keep only top 2 most frequent values as it is and replace everything else as ‘Other’?\n",
    "import numpy as np\n",
    "import pandas as pd \n",
    "np.random.RandomState(100)\n",
    "ser = pd.Series(np.random.randint(1, 5, [12]))\n",
    "print(ser.value_counts().index[:6])\n",
    "\n",
    "ser[~ser.isin(ser.value_counts().index[:2])] = 'Other'\n",
    "a = np.where(ser.value_counts() >= 2 )\n",
    "print(ser)"
   ]
  },
  {
   "cell_type": "code",
   "execution_count": null,
   "metadata": {},
   "outputs": [],
   "source": [
    "# 11. How to bin a numeric series to 10 groups of equal size?\n",
    "\n"
   ]
  },
  {
   "cell_type": "code",
   "execution_count": null,
   "metadata": {},
   "outputs": [],
   "source": []
  },
  {
   "cell_type": "code",
   "execution_count": null,
   "metadata": {},
   "outputs": [],
   "source": []
  },
  {
   "cell_type": "code",
   "execution_count": null,
   "metadata": {},
   "outputs": [],
   "source": []
  },
  {
   "cell_type": "code",
   "execution_count": null,
   "metadata": {},
   "outputs": [],
   "source": []
  },
  {
   "cell_type": "code",
   "execution_count": null,
   "metadata": {},
   "outputs": [],
   "source": []
  },
  {
   "cell_type": "code",
   "execution_count": null,
   "metadata": {},
   "outputs": [],
   "source": [
    "#18  How to convert the first character of each element in a series to uppercase?\n",
    "ser = pd.Series(['how', 'to', 'kick', 'ass?'])\n",
    "for i in ser:\n",
    "    print(i.title())\n"
   ]
  }
 ],
 "metadata": {
  "kernelspec": {
   "display_name": "Python 3",
   "language": "python",
   "name": "python3"
  },
  "language_info": {
   "codemirror_mode": {
    "name": "ipython",
    "version": 3
   },
   "file_extension": ".py",
   "mimetype": "text/x-python",
   "name": "python",
   "nbconvert_exporter": "python",
   "pygments_lexer": "ipython3",
   "version": "3.7.4"
  }
 },
 "nbformat": 4,
 "nbformat_minor": 2
}
